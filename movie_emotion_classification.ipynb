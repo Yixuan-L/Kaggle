{
  "nbformat": 4,
  "nbformat_minor": 0,
  "metadata": {
    "colab": {
      "name": "movie_emotion_classification.ipynb",
      "provenance": [],
      "authorship_tag": "ABX9TyOs36fS0ZYsrIlIZqcqCmi4",
      "include_colab_link": true
    },
    "kernelspec": {
      "name": "python3",
      "display_name": "Python 3"
    }
  },
  "cells": [
    {
      "cell_type": "markdown",
      "metadata": {
        "id": "view-in-github",
        "colab_type": "text"
      },
      "source": [
        "<a href=\"https://colab.research.google.com/github/Yixuan-L/Kaggle/blob/master/movie_emotion_classification.ipynb\" target=\"_parent\"><img src=\"https://colab.research.google.com/assets/colab-badge.svg\" alt=\"Open In Colab\"/></a>"
      ]
    },
    {
      "cell_type": "code",
      "metadata": {
        "id": "_1qQP2nDMvuT",
        "colab_type": "code",
        "colab": {
          "base_uri": "https://localhost:8080/",
          "height": 34
        },
        "outputId": "07e01343-87f1-489e-beb0-7427e4a94f92"
      },
      "source": [
        "from __future__ import absolute_import, division, print_function, unicode_literals\n",
        "try:\n",
        "  # Colab only\n",
        "  %tensorflow_version 2.x\n",
        "except Exception:\n",
        "    pass\n",
        "import tensorflow as tf\n",
        "from tensorflow import keras\n",
        "\n",
        "import numpy as np\n",
        "\n",
        "print(tf.__version__)"
      ],
      "execution_count": 6,
      "outputs": [
        {
          "output_type": "stream",
          "text": [
            "2.1.0\n"
          ],
          "name": "stdout"
        }
      ]
    },
    {
      "cell_type": "code",
      "metadata": {
        "id": "cRv7wtr2NDKf",
        "colab_type": "code",
        "colab": {}
      },
      "source": [
        "imdb = keras.datasets.imdb\n",
        "\n",
        "(train_data, train_labels), (test_data, test_labels) = imdb.load_data(num_words=10000)"
      ],
      "execution_count": 0,
      "outputs": []
    },
    {
      "cell_type": "markdown",
      "metadata": {
        "id": "ree0DHClNLU8",
        "colab_type": "text"
      },
      "source": [
        "keep most frequent 10000 words in training set"
      ]
    },
    {
      "cell_type": "code",
      "metadata": {
        "id": "PkLIhL8cNQfs",
        "colab_type": "code",
        "colab": {
          "base_uri": "https://localhost:8080/",
          "height": 34
        },
        "outputId": "64dd4355-b87c-4e60-f739-1d31156aeb3e"
      },
      "source": [
        "print(\"Training entries: {}, labels: {}\".format(len(train_data), len(train_labels)))"
      ],
      "execution_count": 8,
      "outputs": [
        {
          "output_type": "stream",
          "text": [
            "Training entries: 25000, labels: 25000\n"
          ],
          "name": "stdout"
        }
      ]
    },
    {
      "cell_type": "code",
      "metadata": {
        "id": "2urce1BINqC7",
        "colab_type": "code",
        "colab": {
          "base_uri": "https://localhost:8080/",
          "height": 71
        },
        "outputId": "a2d10b56-2b64-4e1e-e200-e799eea2327d"
      },
      "source": [
        "print(train_data[0])\n",
        "print(train_labels[:10])"
      ],
      "execution_count": 9,
      "outputs": [
        {
          "output_type": "stream",
          "text": [
            "[1, 14, 22, 16, 43, 530, 973, 1622, 1385, 65, 458, 4468, 66, 3941, 4, 173, 36, 256, 5, 25, 100, 43, 838, 112, 50, 670, 2, 9, 35, 480, 284, 5, 150, 4, 172, 112, 167, 2, 336, 385, 39, 4, 172, 4536, 1111, 17, 546, 38, 13, 447, 4, 192, 50, 16, 6, 147, 2025, 19, 14, 22, 4, 1920, 4613, 469, 4, 22, 71, 87, 12, 16, 43, 530, 38, 76, 15, 13, 1247, 4, 22, 17, 515, 17, 12, 16, 626, 18, 2, 5, 62, 386, 12, 8, 316, 8, 106, 5, 4, 2223, 5244, 16, 480, 66, 3785, 33, 4, 130, 12, 16, 38, 619, 5, 25, 124, 51, 36, 135, 48, 25, 1415, 33, 6, 22, 12, 215, 28, 77, 52, 5, 14, 407, 16, 82, 2, 8, 4, 107, 117, 5952, 15, 256, 4, 2, 7, 3766, 5, 723, 36, 71, 43, 530, 476, 26, 400, 317, 46, 7, 4, 2, 1029, 13, 104, 88, 4, 381, 15, 297, 98, 32, 2071, 56, 26, 141, 6, 194, 7486, 18, 4, 226, 22, 21, 134, 476, 26, 480, 5, 144, 30, 5535, 18, 51, 36, 28, 224, 92, 25, 104, 4, 226, 65, 16, 38, 1334, 88, 12, 16, 283, 5, 16, 4472, 113, 103, 32, 15, 16, 5345, 19, 178, 32]\n",
            "[1 0 0 1 0 0 1 0 1 0]\n"
          ],
          "name": "stdout"
        }
      ]
    },
    {
      "cell_type": "markdown",
      "metadata": {
        "id": "SvW9xohcNz_t",
        "colab_type": "text"
      },
      "source": [
        "评论文本被转换为整数值，其中每个整数代表词典中的一个单词.\n",
        " 0 代表消极评论，1 代表积极评论。"
      ]
    },
    {
      "cell_type": "code",
      "metadata": {
        "id": "aPKCyh0GN1Ig",
        "colab_type": "code",
        "colab": {}
      },
      "source": [
        "# mapping of words and corresponding integer\n",
        "word_index = imdb.get_word_index()\n",
        "\n"
      ],
      "execution_count": 0,
      "outputs": []
    },
    {
      "cell_type": "code",
      "metadata": {
        "id": "E4g-uLrUPQRW",
        "colab_type": "code",
        "colab": {
          "base_uri": "https://localhost:8080/",
          "height": 54
        },
        "outputId": "0e18a993-73ba-4f96-ab08-95495d9de3d2"
      },
      "source": [
        "# 保留第一个索引\n",
        "word_index = {k:(v+3) for k,v in word_index.items()}\n",
        "word_index[\"<PAD>\"] = 0\n",
        "word_index[\"<START>\"] = 1\n",
        "word_index[\"<UNK>\"] = 2  # unknown\n",
        "word_index[\"<UNUSED>\"] = 3\n",
        "\n",
        "reverse_word_index = dict([(value, key) for (key, value) in word_index.items()])\n",
        "\n",
        "def decode_review(text):\n",
        "    return ' '.join([reverse_word_index.get(i, '?') for i in text])\n",
        "decode_review(train_data[0])"
      ],
      "execution_count": 33,
      "outputs": [
        {
          "output_type": "execute_result",
          "data": {
            "text/plain": [
              "\"<START> this film was just brilliant casting location scenery story direction everyone's really suited the part they played and you could just imagine being there robert <UNK> is an amazing actor and now the same being director <UNK> father came from the same scottish island as myself so i loved the fact there was a real connection with this film the witty remarks throughout the film were great it was just brilliant so much that i bought the film as soon as it was released for <UNK> and would recommend it to everyone to watch and the fly fishing was amazing really cried at the end it was so sad and you know what they say if you cry at a film it must have been good and this definitely was also <UNK> to the two little boy's that played the <UNK> of norman and paul they were just brilliant children are often left out of the <UNK> list i think because the stars that play them all grown up are such a big profile for the whole film but these children are amazing and should be praised for what they have done don't you think the whole story was so lovely because it was true and was someone's life after all that was shared with us all <PAD> <PAD> <PAD> <PAD> <PAD> <PAD> <PAD> <PAD> <PAD> <PAD> <PAD> <PAD> <PAD> <PAD> <PAD> <PAD> <PAD> <PAD> <PAD> <PAD> <PAD> <PAD> <PAD> <PAD> <PAD> <PAD> <PAD> <PAD> <PAD> <PAD> <PAD> <PAD> <PAD> <PAD> <PAD> <PAD> <PAD> <PAD>\""
            ]
          },
          "metadata": {
            "tags": []
          },
          "execution_count": 33
        }
      ]
    },
    {
      "cell_type": "markdown",
      "metadata": {
        "id": "PgKeWdaPP6pn",
        "colab_type": "text"
      },
      "source": [
        "我们可以填充数组来保证输入数据具有相同的长度，然后创建一个大小为 max_length * num_reviews 的整型张量。我们可以使用能够处理此形状数据的嵌入层作为网络中的第一层。"
      ]
    },
    {
      "cell_type": "code",
      "metadata": {
        "id": "Ke2Z4ZOtPxd8",
        "colab_type": "code",
        "colab": {}
      },
      "source": [
        "train_data = keras.preprocessing.sequence.pad_sequences(train_data,\n",
        "                                                        value=word_index[\"<PAD>\"],\n",
        "                                                        padding='post',\n",
        "                                                        maxlen=256)\n",
        "\n",
        "test_data = keras.preprocessing.sequence.pad_sequences(test_data,\n",
        "                                                       value=word_index[\"<PAD>\"],\n",
        "                                                       padding='post',\n",
        "                                                       maxlen=256)"
      ],
      "execution_count": 0,
      "outputs": []
    },
    {
      "cell_type": "code",
      "metadata": {
        "id": "CUlYJGigQSWD",
        "colab_type": "code",
        "colab": {
          "base_uri": "https://localhost:8080/",
          "height": 377
        },
        "outputId": "11978219-0347-4a4b-cadd-463a8d44449a"
      },
      "source": [
        "print(train_data[0])\n",
        "decode_review(train_data[0])"
      ],
      "execution_count": 17,
      "outputs": [
        {
          "output_type": "stream",
          "text": [
            "[   1   14   22   16   43  530  973 1622 1385   65  458 4468   66 3941\n",
            "    4  173   36  256    5   25  100   43  838  112   50  670    2    9\n",
            "   35  480  284    5  150    4  172  112  167    2  336  385   39    4\n",
            "  172 4536 1111   17  546   38   13  447    4  192   50   16    6  147\n",
            " 2025   19   14   22    4 1920 4613  469    4   22   71   87   12   16\n",
            "   43  530   38   76   15   13 1247    4   22   17  515   17   12   16\n",
            "  626   18    2    5   62  386   12    8  316    8  106    5    4 2223\n",
            " 5244   16  480   66 3785   33    4  130   12   16   38  619    5   25\n",
            "  124   51   36  135   48   25 1415   33    6   22   12  215   28   77\n",
            "   52    5   14  407   16   82    2    8    4  107  117 5952   15  256\n",
            "    4    2    7 3766    5  723   36   71   43  530  476   26  400  317\n",
            "   46    7    4    2 1029   13  104   88    4  381   15  297   98   32\n",
            " 2071   56   26  141    6  194 7486   18    4  226   22   21  134  476\n",
            "   26  480    5  144   30 5535   18   51   36   28  224   92   25  104\n",
            "    4  226   65   16   38 1334   88   12   16  283    5   16 4472  113\n",
            "  103   32   15   16 5345   19  178   32    0    0    0    0    0    0\n",
            "    0    0    0    0    0    0    0    0    0    0    0    0    0    0\n",
            "    0    0    0    0    0    0    0    0    0    0    0    0    0    0\n",
            "    0    0    0    0]\n"
          ],
          "name": "stdout"
        },
        {
          "output_type": "execute_result",
          "data": {
            "text/plain": [
              "\"<START> this film was just brilliant casting location scenery story direction everyone's really suited the part they played and you could just imagine being there robert <UNK> is an amazing actor and now the same being director <UNK> father came from the same scottish island as myself so i loved the fact there was a real connection with this film the witty remarks throughout the film were great it was just brilliant so much that i bought the film as soon as it was released for <UNK> and would recommend it to everyone to watch and the fly fishing was amazing really cried at the end it was so sad and you know what they say if you cry at a film it must have been good and this definitely was also <UNK> to the two little boy's that played the <UNK> of norman and paul they were just brilliant children are often left out of the <UNK> list i think because the stars that play them all grown up are such a big profile for the whole film but these children are amazing and should be praised for what they have done don't you think the whole story was so lovely because it was true and was someone's life after all that was shared with us all <PAD> <PAD> <PAD> <PAD> <PAD> <PAD> <PAD> <PAD> <PAD> <PAD> <PAD> <PAD> <PAD> <PAD> <PAD> <PAD> <PAD> <PAD> <PAD> <PAD> <PAD> <PAD> <PAD> <PAD> <PAD> <PAD> <PAD> <PAD> <PAD> <PAD> <PAD> <PAD> <PAD> <PAD> <PAD> <PAD> <PAD> <PAD>\""
            ]
          },
          "metadata": {
            "tags": []
          },
          "execution_count": 17
        }
      ]
    },
    {
      "cell_type": "code",
      "metadata": {
        "id": "aG8OYoFiQ7Tu",
        "colab_type": "code",
        "colab": {
          "base_uri": "https://localhost:8080/",
          "height": 289
        },
        "outputId": "535a84c1-f123-4902-cfe9-3c447e252d48"
      },
      "source": [
        "vocab_size = 10000\n",
        "\n",
        "model = keras.Sequential()\n",
        "model.add(keras.layers.Embedding(vocab_size, 16))\n",
        "model.add(keras.layers.GlobalAveragePooling1D())\n",
        "model.add(keras.layers.Dense(16, activation='relu'))\n",
        "model.add(keras.layers.Dense(1, activation='sigmoid'))\n",
        "\n",
        "model.summary()"
      ],
      "execution_count": 18,
      "outputs": [
        {
          "output_type": "stream",
          "text": [
            "Model: \"sequential\"\n",
            "_________________________________________________________________\n",
            "Layer (type)                 Output Shape              Param #   \n",
            "=================================================================\n",
            "embedding (Embedding)        (None, None, 16)          160000    \n",
            "_________________________________________________________________\n",
            "global_average_pooling1d (Gl (None, 16)                0         \n",
            "_________________________________________________________________\n",
            "dense (Dense)                (None, 16)                272       \n",
            "_________________________________________________________________\n",
            "dense_1 (Dense)              (None, 1)                 17        \n",
            "=================================================================\n",
            "Total params: 160,289\n",
            "Trainable params: 160,289\n",
            "Non-trainable params: 0\n",
            "_________________________________________________________________\n"
          ],
          "name": "stdout"
        }
      ]
    },
    {
      "cell_type": "code",
      "metadata": {
        "id": "k33mll4jRaAG",
        "colab_type": "code",
        "colab": {}
      },
      "source": [
        "model.compile(optimizer='adam',\n",
        "              loss='binary_crossentropy',\n",
        "              metrics=['accuracy'])"
      ],
      "execution_count": 0,
      "outputs": []
    },
    {
      "cell_type": "code",
      "metadata": {
        "id": "EW-aasJKRjn6",
        "colab_type": "code",
        "colab": {}
      },
      "source": [
        "x_val = train_data[:10000]\n",
        "partial_x_train = train_data[10000:]\n",
        "\n",
        "y_val = train_labels[:10000]\n",
        "partial_y_train = train_labels[10000:]"
      ],
      "execution_count": 0,
      "outputs": []
    },
    {
      "cell_type": "code",
      "metadata": {
        "id": "gXppXYjaRpUz",
        "colab_type": "code",
        "colab": {
          "base_uri": "https://localhost:8080/",
          "height": 1000
        },
        "outputId": "d53b38af-ae43-478e-c34a-168c60a9fd5a"
      },
      "source": [
        "history = model.fit(partial_x_train,\n",
        "                    partial_y_train,\n",
        "                    epochs=40,\n",
        "                    batch_size=512,\n",
        "                    validation_data=(x_val, y_val),\n",
        "                    verbose=1)"
      ],
      "execution_count": 21,
      "outputs": [
        {
          "output_type": "stream",
          "text": [
            "Train on 15000 samples, validate on 10000 samples\n",
            "Epoch 1/40\n",
            "15000/15000 [==============================] - 2s 102us/sample - loss: 0.6924 - accuracy: 0.5229 - val_loss: 0.6911 - val_accuracy: 0.6288\n",
            "Epoch 2/40\n",
            "15000/15000 [==============================] - 1s 43us/sample - loss: 0.6885 - accuracy: 0.6560 - val_loss: 0.6854 - val_accuracy: 0.7231\n",
            "Epoch 3/40\n",
            "15000/15000 [==============================] - 1s 43us/sample - loss: 0.6794 - accuracy: 0.7372 - val_loss: 0.6734 - val_accuracy: 0.7338\n",
            "Epoch 4/40\n",
            "15000/15000 [==============================] - 1s 45us/sample - loss: 0.6616 - accuracy: 0.7641 - val_loss: 0.6521 - val_accuracy: 0.7666\n",
            "Epoch 5/40\n",
            "15000/15000 [==============================] - 1s 44us/sample - loss: 0.6326 - accuracy: 0.7860 - val_loss: 0.6204 - val_accuracy: 0.7803\n",
            "Epoch 6/40\n",
            "15000/15000 [==============================] - 1s 43us/sample - loss: 0.5934 - accuracy: 0.8039 - val_loss: 0.5809 - val_accuracy: 0.7883\n",
            "Epoch 7/40\n",
            "15000/15000 [==============================] - 1s 44us/sample - loss: 0.5476 - accuracy: 0.8197 - val_loss: 0.5383 - val_accuracy: 0.8111\n",
            "Epoch 8/40\n",
            "15000/15000 [==============================] - 1s 44us/sample - loss: 0.5001 - accuracy: 0.8351 - val_loss: 0.4957 - val_accuracy: 0.8206\n",
            "Epoch 9/40\n",
            "15000/15000 [==============================] - 1s 44us/sample - loss: 0.4541 - accuracy: 0.8525 - val_loss: 0.4568 - val_accuracy: 0.8366\n",
            "Epoch 10/40\n",
            "15000/15000 [==============================] - 1s 45us/sample - loss: 0.4138 - accuracy: 0.8646 - val_loss: 0.4240 - val_accuracy: 0.8462\n",
            "Epoch 11/40\n",
            "15000/15000 [==============================] - 1s 43us/sample - loss: 0.3792 - accuracy: 0.8765 - val_loss: 0.3971 - val_accuracy: 0.8551\n",
            "Epoch 12/40\n",
            "15000/15000 [==============================] - 1s 45us/sample - loss: 0.3498 - accuracy: 0.8834 - val_loss: 0.3761 - val_accuracy: 0.8586\n",
            "Epoch 13/40\n",
            "15000/15000 [==============================] - 1s 44us/sample - loss: 0.3256 - accuracy: 0.8896 - val_loss: 0.3583 - val_accuracy: 0.8640\n",
            "Epoch 14/40\n",
            "15000/15000 [==============================] - 1s 43us/sample - loss: 0.3045 - accuracy: 0.8964 - val_loss: 0.3442 - val_accuracy: 0.8691\n",
            "Epoch 15/40\n",
            "15000/15000 [==============================] - 1s 45us/sample - loss: 0.2873 - accuracy: 0.8993 - val_loss: 0.3326 - val_accuracy: 0.8712\n",
            "Epoch 16/40\n",
            "15000/15000 [==============================] - 1s 43us/sample - loss: 0.2709 - accuracy: 0.9049 - val_loss: 0.3240 - val_accuracy: 0.8748\n",
            "Epoch 17/40\n",
            "15000/15000 [==============================] - 1s 44us/sample - loss: 0.2566 - accuracy: 0.9104 - val_loss: 0.3155 - val_accuracy: 0.8755\n",
            "Epoch 18/40\n",
            "15000/15000 [==============================] - 1s 44us/sample - loss: 0.2440 - accuracy: 0.9146 - val_loss: 0.3092 - val_accuracy: 0.8780\n",
            "Epoch 19/40\n",
            "15000/15000 [==============================] - 1s 46us/sample - loss: 0.2328 - accuracy: 0.9194 - val_loss: 0.3036 - val_accuracy: 0.8797\n",
            "Epoch 20/40\n",
            "15000/15000 [==============================] - 1s 43us/sample - loss: 0.2215 - accuracy: 0.9229 - val_loss: 0.2992 - val_accuracy: 0.8811\n",
            "Epoch 21/40\n",
            "15000/15000 [==============================] - 1s 44us/sample - loss: 0.2117 - accuracy: 0.9271 - val_loss: 0.2957 - val_accuracy: 0.8827\n",
            "Epoch 22/40\n",
            "15000/15000 [==============================] - 1s 43us/sample - loss: 0.2026 - accuracy: 0.9306 - val_loss: 0.2935 - val_accuracy: 0.8818\n",
            "Epoch 23/40\n",
            "15000/15000 [==============================] - 1s 43us/sample - loss: 0.1942 - accuracy: 0.9339 - val_loss: 0.2904 - val_accuracy: 0.8844\n",
            "Epoch 24/40\n",
            "15000/15000 [==============================] - 1s 43us/sample - loss: 0.1857 - accuracy: 0.9383 - val_loss: 0.2886 - val_accuracy: 0.8839\n",
            "Epoch 25/40\n",
            "15000/15000 [==============================] - 1s 44us/sample - loss: 0.1784 - accuracy: 0.9412 - val_loss: 0.2879 - val_accuracy: 0.8836\n",
            "Epoch 26/40\n",
            "15000/15000 [==============================] - 1s 43us/sample - loss: 0.1714 - accuracy: 0.9435 - val_loss: 0.2871 - val_accuracy: 0.8851\n",
            "Epoch 27/40\n",
            "15000/15000 [==============================] - 1s 43us/sample - loss: 0.1645 - accuracy: 0.9474 - val_loss: 0.2864 - val_accuracy: 0.8847\n",
            "Epoch 28/40\n",
            "15000/15000 [==============================] - 1s 44us/sample - loss: 0.1580 - accuracy: 0.9495 - val_loss: 0.2869 - val_accuracy: 0.8841\n",
            "Epoch 29/40\n",
            "15000/15000 [==============================] - 1s 44us/sample - loss: 0.1519 - accuracy: 0.9519 - val_loss: 0.2864 - val_accuracy: 0.8847\n",
            "Epoch 30/40\n",
            "15000/15000 [==============================] - 1s 43us/sample - loss: 0.1461 - accuracy: 0.9553 - val_loss: 0.2878 - val_accuracy: 0.8856\n",
            "Epoch 31/40\n",
            "15000/15000 [==============================] - 1s 43us/sample - loss: 0.1407 - accuracy: 0.9576 - val_loss: 0.2886 - val_accuracy: 0.8846\n",
            "Epoch 32/40\n",
            "15000/15000 [==============================] - 1s 43us/sample - loss: 0.1357 - accuracy: 0.9596 - val_loss: 0.2899 - val_accuracy: 0.8848\n",
            "Epoch 33/40\n",
            "15000/15000 [==============================] - 1s 45us/sample - loss: 0.1303 - accuracy: 0.9617 - val_loss: 0.2905 - val_accuracy: 0.8863\n",
            "Epoch 34/40\n",
            "15000/15000 [==============================] - 1s 42us/sample - loss: 0.1257 - accuracy: 0.9637 - val_loss: 0.2916 - val_accuracy: 0.8855\n",
            "Epoch 35/40\n",
            "15000/15000 [==============================] - 1s 44us/sample - loss: 0.1213 - accuracy: 0.9647 - val_loss: 0.2934 - val_accuracy: 0.8856\n",
            "Epoch 36/40\n",
            "15000/15000 [==============================] - 1s 44us/sample - loss: 0.1164 - accuracy: 0.9671 - val_loss: 0.2967 - val_accuracy: 0.8867\n",
            "Epoch 37/40\n",
            "15000/15000 [==============================] - 1s 43us/sample - loss: 0.1126 - accuracy: 0.9689 - val_loss: 0.2983 - val_accuracy: 0.8847\n",
            "Epoch 38/40\n",
            "15000/15000 [==============================] - 1s 44us/sample - loss: 0.1086 - accuracy: 0.9696 - val_loss: 0.3003 - val_accuracy: 0.8843\n",
            "Epoch 39/40\n",
            "15000/15000 [==============================] - 1s 45us/sample - loss: 0.1044 - accuracy: 0.9711 - val_loss: 0.3025 - val_accuracy: 0.8845\n",
            "Epoch 40/40\n",
            "15000/15000 [==============================] - 1s 46us/sample - loss: 0.1012 - accuracy: 0.9721 - val_loss: 0.3054 - val_accuracy: 0.8831\n"
          ],
          "name": "stdout"
        }
      ]
    },
    {
      "cell_type": "code",
      "metadata": {
        "id": "VDMzjunqTA8A",
        "colab_type": "code",
        "colab": {
          "base_uri": "https://localhost:8080/",
          "height": 51
        },
        "outputId": "e879fa9a-903a-49f1-a4a1-d4753bc35163"
      },
      "source": [
        "results = model.evaluate(test_data,  test_labels, verbose=2)\n",
        "\n",
        "print(results)"
      ],
      "execution_count": 22,
      "outputs": [
        {
          "output_type": "stream",
          "text": [
            "25000/25000 - 1s - loss: 0.3257 - accuracy: 0.8718\n",
            "[0.3256834739542007, 0.87176]\n"
          ],
          "name": "stdout"
        }
      ]
    },
    {
      "cell_type": "code",
      "metadata": {
        "id": "JOiVNZppTOqz",
        "colab_type": "code",
        "colab": {
          "base_uri": "https://localhost:8080/",
          "height": 34
        },
        "outputId": "9e07d93c-3fcf-4db9-98c7-0a6ced023053"
      },
      "source": [
        "history_dict = history.history\n",
        "history_dict.keys()"
      ],
      "execution_count": 23,
      "outputs": [
        {
          "output_type": "execute_result",
          "data": {
            "text/plain": [
              "dict_keys(['loss', 'accuracy', 'val_loss', 'val_accuracy'])"
            ]
          },
          "metadata": {
            "tags": []
          },
          "execution_count": 23
        }
      ]
    },
    {
      "cell_type": "code",
      "metadata": {
        "id": "rfk0sqJhTSmY",
        "colab_type": "code",
        "colab": {
          "base_uri": "https://localhost:8080/",
          "height": 295
        },
        "outputId": "b3abc383-b2aa-49a1-9764-8ad7ee2553ec"
      },
      "source": [
        "import matplotlib.pyplot as plt\n",
        "\n",
        "acc = history_dict['accuracy']\n",
        "val_acc = history_dict['val_accuracy']\n",
        "loss = history_dict['loss']\n",
        "val_loss = history_dict['val_loss']\n",
        "\n",
        "epochs = range(1, len(acc) + 1)\n",
        "\n",
        "# “bo”代表 \"蓝点\"\n",
        "plt.plot(epochs, loss, 'bo', label='Training loss')\n",
        "# b代表“蓝色实线”\n",
        "plt.plot(epochs, val_loss, 'b', label='Validation loss')\n",
        "plt.title('Training and validation loss')\n",
        "plt.xlabel('Epochs')\n",
        "plt.ylabel('Loss')\n",
        "plt.legend()\n",
        "\n",
        "plt.show()"
      ],
      "execution_count": 24,
      "outputs": [
        {
          "output_type": "display_data",
          "data": {
            "image/png": "[encoded data removed]",
            "text/plain": [
              "<Figure size 432x288 with 1 Axes>"
            ]
          },
          "metadata": {
            "tags": []
          }
        }
      ]
    },
    {
      "cell_type": "code",
      "metadata": {
        "id": "dMtFXGbvTXPe",
        "colab_type": "code",
        "colab": {
          "base_uri": "https://localhost:8080/",
          "height": 295
        },
        "outputId": "57d776aa-78f4-41e6-c4bd-af52fb05504e"
      },
      "source": [
        "plt.clf()   # 清除数字\n",
        "\n",
        "plt.plot(epochs, acc, 'bo', label='Training acc')\n",
        "plt.plot(epochs, val_acc, 'b', label='Validation acc')\n",
        "plt.title('Training and validation accuracy')\n",
        "plt.xlabel('Epochs')\n",
        "plt.ylabel('Accuracy')\n",
        "plt.legend()\n",
        "\n",
        "plt.show()"
      ],
      "execution_count": 25,
      "outputs": [
        {
          "output_type": "display_data",
          "data": {
            "image/png": "[encoded data removed]",
            "text/plain": [
              "<Figure size 432x288 with 1 Axes>"
            ]
          },
          "metadata": {
            "tags": []
          }
        }
      ]
    }
  ]
}